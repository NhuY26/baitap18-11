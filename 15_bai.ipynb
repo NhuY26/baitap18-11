{
  "nbformat": 4,
  "nbformat_minor": 0,
  "metadata": {
    "colab": {
      "name": "15-bai.ipynb",
      "provenance": [],
      "authorship_tag": "ABX9TyOtlyvG500I2wwRex/0ECqZ",
      "include_colab_link": true
    },
    "kernelspec": {
      "name": "python3",
      "display_name": "Python 3"
    },
    "language_info": {
      "name": "python"
    }
  },
  "cells": [
    {
      "cell_type": "markdown",
      "metadata": {
        "id": "view-in-github",
        "colab_type": "text"
      },
      "source": [
        "<a href=\"https://colab.research.google.com/github/NhuY26/baitap18-11/blob/main/15_bai.ipynb\" target=\"_parent\"><img src=\"https://colab.research.google.com/assets/colab-badge.svg\" alt=\"Open In Colab\"/></a>"
      ]
    },
    {
      "cell_type": "code",
      "metadata": {
        "colab": {
          "base_uri": "https://localhost:8080/"
        },
        "id": "QTpxaFfxQUTV",
        "outputId": "1115e2c5-657c-4fee-fb9a-79a55debd857"
      },
      "source": [
        "#1\n",
        "for i in range(10, ):\n",
        " print(i)"
      ],
      "execution_count": 4,
      "outputs": [
        {
          "output_type": "stream",
          "name": "stdout",
          "text": [
            "0\n",
            "1\n",
            "2\n",
            "3\n",
            "4\n",
            "5\n",
            "6\n",
            "7\n",
            "8\n",
            "9\n"
          ]
        }
      ]
    },
    {
      "cell_type": "code",
      "metadata": {
        "colab": {
          "base_uri": "https://localhost:8080/"
        },
        "id": "NSN6wzxRQgD3",
        "outputId": "d907676a-69bc-4ae1-8ab6-dd8ecff755ab"
      },
      "source": [
        "#2\n",
        "n = int(input('nhập n:'))\n",
        "for i in range(1, n + 1, 1):\n",
        "    for j in range(n - i + 1, 0, -1):\n",
        "        print(j,end= ' ')\n",
        "    print()\n"
      ],
      "execution_count": 5,
      "outputs": [
        {
          "output_type": "stream",
          "name": "stdout",
          "text": [
            "nhập n:5\n",
            "5 4 3 2 1 \n",
            "4 3 2 1 \n",
            "3 2 1 \n",
            "2 1 \n",
            "1 \n"
          ]
        }
      ]
    },
    {
      "cell_type": "code",
      "metadata": {
        "colab": {
          "base_uri": "https://localhost:8080/"
        },
        "id": "8IMzAgRnQjAq",
        "outputId": "72154237-d3f7-4fcb-f493-f58cb70f1f51"
      },
      "source": [
        "#3: tính tổng từ 1 đến 1 số nhất định\n",
        "n = int(input('nhập n:'))\n",
        "sum = 0\n",
        "for i in range(1, n + 1, 1):\n",
        "    sum = sum + i\n",
        "print(sum)"
      ],
      "execution_count": 6,
      "outputs": [
        {
          "output_type": "stream",
          "name": "stdout",
          "text": [
            "nhập n:6\n",
            "21\n"
          ]
        }
      ]
    },
    {
      "cell_type": "code",
      "metadata": {
        "colab": {
          "base_uri": "https://localhost:8080/"
        },
        "id": "Ase3f4x7Q6H1",
        "outputId": "c9202879-35f8-4020-f4cb-b4872a13e7d3"
      },
      "source": [
        "#4 tạo bảng số nhân \n",
        "\n",
        "n = int(input('nhập n:'))\n",
        "num = float(input('nhập số cần lập bảng tính nhân: '))\n",
        "count = 0 \n",
        "for i in range(1, n + 1, 1):\n",
        "    count = num * i\n",
        "    print(num, '*', i, '=', count)"
      ],
      "execution_count": 8,
      "outputs": [
        {
          "output_type": "stream",
          "name": "stdout",
          "text": [
            "nhập n:7\n",
            "nhập số cần lập bảng tính nhân: 2\n",
            "2.0 * 1 = 2.0\n",
            "2.0 * 2 = 4.0\n",
            "2.0 * 3 = 6.0\n",
            "2.0 * 4 = 8.0\n",
            "2.0 * 5 = 10.0\n",
            "2.0 * 6 = 12.0\n",
            "2.0 * 7 = 14.0\n"
          ]
        }
      ]
    },
    {
      "cell_type": "code",
      "metadata": {
        "colab": {
          "base_uri": "https://localhost:8080/"
        },
        "id": "YejMJV3HRAif",
        "outputId": "9f38699c-0165-4d6b-e587-46ea85a8aac6"
      },
      "source": [
        "#5 hiển thị trong danh sách\n",
        "for i in [1,2,3,4,5]:\n",
        "    print(i)"
      ],
      "execution_count": 9,
      "outputs": [
        {
          "output_type": "stream",
          "name": "stdout",
          "text": [
            "1\n",
            "2\n",
            "3\n",
            "4\n",
            "5\n"
          ]
        }
      ]
    },
    {
      "cell_type": "code",
      "metadata": {
        "colab": {
          "base_uri": "https://localhost:8080/"
        },
        "id": "sEdsqobgRGBa",
        "outputId": "3501045d-ce63-4551-cf13-3028d7dd4f97"
      },
      "source": [
        "#6 đếm số lượng phần tử được nhập vào \n",
        "n = int(input('nhập n:'))\n",
        "sum = 0 \n",
        "while n != 0:\n",
        "    n = int(n / 10)\n",
        "    sum = sum + 1\n",
        "print(sum)"
      ],
      "execution_count": 11,
      "outputs": [
        {
          "output_type": "stream",
          "name": "stdout",
          "text": [
            "nhập n:34\n",
            "2\n"
          ]
        }
      ]
    },
    {
      "cell_type": "code",
      "metadata": {
        "colab": {
          "base_uri": "https://localhost:8080/"
        },
        "id": "_qInizqjRNpW",
        "outputId": "8cb3a427-7f73-4738-ce7e-fc9fd97b9703"
      },
      "source": [
        "#7 in danh sách theo thứ tự ngược\n",
        "lst = [1,2,10.2,5]\n",
        "for i in range(len(lst)-1, -1, -1):\n",
        "    print(lst[i])"
      ],
      "execution_count": 13,
      "outputs": [
        {
          "output_type": "stream",
          "name": "stdout",
          "text": [
            "5\n",
            "10.2\n",
            "2\n",
            "1\n"
          ]
        }
      ]
    },
    {
      "cell_type": "code",
      "metadata": {
        "colab": {
          "base_uri": "https://localhost:8080/"
        },
        "id": "qZ0P_xlyRQGM",
        "outputId": "6da3c0ea-888d-4665-fd06-975718a6d11f"
      },
      "source": [
        "#8 hiển thị từ -10 đến -1\n",
        "for i in range(-10, 0, 1):\n",
        "    print(i)"
      ],
      "execution_count": 14,
      "outputs": [
        {
          "output_type": "stream",
          "name": "stdout",
          "text": [
            "-10\n",
            "-9\n",
            "-8\n",
            "-7\n",
            "-6\n",
            "-5\n",
            "-4\n",
            "-3\n",
            "-2\n",
            "-1\n"
          ]
        }
      ]
    },
    {
      "cell_type": "code",
      "metadata": {
        "colab": {
          "base_uri": "https://localhost:8080/"
        },
        "id": "Biatil4yRTqk",
        "outputId": "da061dd1-fb3a-4bcc-e47f-9dc32b34d9f5"
      },
      "source": [
        "#9 vong lặp + else\n",
        "for i in range(8):\n",
        "    print(i)\n",
        "else:\n",
        "    print('done')"
      ],
      "execution_count": 15,
      "outputs": [
        {
          "output_type": "stream",
          "name": "stdout",
          "text": [
            "0\n",
            "1\n",
            "2\n",
            "3\n",
            "4\n",
            "5\n",
            "6\n",
            "7\n",
            "done\n"
          ]
        }
      ]
    },
    {
      "cell_type": "code",
      "metadata": {
        "colab": {
          "base_uri": "https://localhost:8080/"
        },
        "id": "jKcMayLHRiCC",
        "outputId": "a5dcab2b-67c3-4d00-c05d-45d11a745117"
      },
      "source": [
        "#10 số nguyên tố \n",
        "n = int(input('nhập n: '))\n",
        "for i in range(2, n, 1):\n",
        "    if (n % i == 0) and (n != 2):\n",
        "        print('không phải số nguyên tố')\n",
        "        break\n",
        "    else:\n",
        "        print('là số nguyên tố')\n",
        "        break\n",
        "if n == 2:\n",
        "    print('là số nguyên tố')"
      ],
      "execution_count": 16,
      "outputs": [
        {
          "output_type": "stream",
          "name": "stdout",
          "text": [
            "nhập n: 25\n",
            "là số nguyên tố\n"
          ]
        }
      ]
    },
    {
      "cell_type": "code",
      "metadata": {
        "colab": {
          "base_uri": "https://localhost:8080/"
        },
        "id": "Yi-QxXUFRm-Y",
        "outputId": "5fdb07ea-f9e1-46e2-ed3f-f53430be66fc"
      },
      "source": [
        "#11 số fibonacci\n",
        "n = int(input('nhập số lượng số Fibonacci: '))\n",
        "i1 = 0\n",
        "i2 = 1\n",
        "print(i1)\n",
        "print(i2)\n",
        "for i in range(1, n - 1, 1):\n",
        "    fbc = i1 + i2\n",
        "    i1 = i2\n",
        "    i2 = fbc\n",
        "    print(fbc)"
      ],
      "execution_count": 18,
      "outputs": [
        {
          "output_type": "stream",
          "name": "stdout",
          "text": [
            "nhập số lượng số Fibonacci: 25\n",
            "0\n",
            "1\n",
            "1\n",
            "2\n",
            "3\n",
            "5\n",
            "8\n",
            "13\n",
            "21\n",
            "34\n",
            "55\n",
            "89\n",
            "144\n",
            "233\n",
            "377\n",
            "610\n",
            "987\n",
            "1597\n",
            "2584\n",
            "4181\n",
            "6765\n",
            "10946\n",
            "17711\n",
            "28657\n",
            "46368\n"
          ]
        }
      ]
    },
    {
      "cell_type": "code",
      "metadata": {
        "colab": {
          "base_uri": "https://localhost:8080/"
        },
        "id": "VSfrOWbWRvui",
        "outputId": "b099060b-a404-4fcc-adeb-c1d6465e25b3"
      },
      "source": [
        "#12 tìm thừa số \n",
        "n = int(input('nhập n: '))\n",
        "num = 1\n",
        "for i in range(1, n + 1, 1):\n",
        "    if (n % i ==0) and (i != num):\n",
        "        print(i)\n",
        "    while n % i == 0:\n",
        "        num = n / i\n",
        "        n = num\n",
        "        print(num)\n",
        "        i += 1\n",
        "    i += 1"
      ],
      "execution_count": 20,
      "outputs": [
        {
          "output_type": "stream",
          "name": "stdout",
          "text": [
            "nhập n: 25\n",
            "25.0\n",
            "5\n",
            "5.0\n"
          ]
        }
      ]
    },
    {
      "cell_type": "code",
      "metadata": {
        "colab": {
          "base_uri": "https://localhost:8080/"
        },
        "id": "7eUBOulwTnva",
        "outputId": "590f5d79-97f1-4b6d-af26-03e5884288c1"
      },
      "source": [
        "#13 \n",
        "num = int(input(\"Nhập số cần đảo: \"))\n",
        "change = 0\n",
        "\n",
        "while (num > 0):\n",
        "    tmp = num % 10\n",
        "    change = (change * 10) + tmp\n",
        "    num = num // 10\n",
        "\n",
        "print(\"Số sau khi đổi:\", change)"
      ],
      "execution_count": 23,
      "outputs": [
        {
          "output_type": "stream",
          "name": "stdout",
          "text": [
            "Nhập số cần đảo: 25\n",
            "Số sau khi đổi: 52\n"
          ]
        }
      ]
    },
    {
      "cell_type": "code",
      "metadata": {
        "colab": {
          "base_uri": "https://localhost:8080/"
        },
        "id": "ykACVp0PR6KF",
        "outputId": "d8ad8f7d-e849-408c-f3a2-8e5b5d0ba9d7"
      },
      "source": [
        "#14 hiện thị các vị trí lẻ\n",
        "n = int(input('nhập n: '))\n",
        "for i in range(1, n+1, 2):\n",
        "    print(i)"
      ],
      "execution_count": 21,
      "outputs": [
        {
          "output_type": "stream",
          "name": "stdout",
          "text": [
            "nhập n: 25\n",
            "1\n",
            "3\n",
            "5\n",
            "7\n",
            "9\n",
            "11\n",
            "13\n",
            "15\n",
            "17\n",
            "19\n",
            "21\n",
            "23\n",
            "25\n"
          ]
        }
      ]
    },
    {
      "cell_type": "code",
      "metadata": {
        "id": "XHkL4fQfTuFE"
      },
      "source": [
        ""
      ],
      "execution_count": null,
      "outputs": []
    }
  ]
}