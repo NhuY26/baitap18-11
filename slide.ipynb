{
  "nbformat": 4,
  "nbformat_minor": 0,
  "metadata": {
    "colab": {
      "name": "slide.ipynb",
      "provenance": [],
      "authorship_tag": "ABX9TyOBWt4xuhCVWIzN0ZJJf9MD",
      "include_colab_link": true
    },
    "kernelspec": {
      "name": "python3",
      "display_name": "Python 3"
    },
    "language_info": {
      "name": "python"
    }
  },
  "cells": [
    {
      "cell_type": "markdown",
      "metadata": {
        "id": "view-in-github",
        "colab_type": "text"
      },
      "source": [
        "<a href=\"https://colab.research.google.com/github/NhuY26/baitap18-11/blob/main/slide.ipynb\" target=\"_parent\"><img src=\"https://colab.research.google.com/assets/colab-badge.svg\" alt=\"Open In Colab\"/></a>"
      ]
    },
    {
      "cell_type": "code",
      "metadata": {
        "colab": {
          "base_uri": "https://localhost:8080/"
        },
        "id": "mCEPyl9m2dJB",
        "outputId": "6260f09b-3659-43a3-ca1c-4127ba9db85e"
      },
      "source": [
        "#24\n",
        "for num in [1, 2, 3, 4, 5 ] :\n",
        " print(num)"
      ],
      "execution_count": 9,
      "outputs": [
        {
          "output_type": "stream",
          "name": "stdout",
          "text": [
            "1\n",
            "2\n",
            "3\n",
            "4\n",
            "5\n"
          ]
        }
      ]
    },
    {
      "cell_type": "code",
      "metadata": {
        "colab": {
          "base_uri": "https://localhost:8080/"
        },
        "id": "gYEOvtj83TgE",
        "outputId": "06fb8a86-07fc-4003-e69a-5bdca7b59043"
      },
      "source": [
        "#26\n",
        "for i in range (4) :\n",
        " print(i)"
      ],
      "execution_count": 15,
      "outputs": [
        {
          "output_type": "stream",
          "name": "stdout",
          "text": [
            "0\n",
            "1\n",
            "2\n",
            "3\n"
          ]
        }
      ]
    },
    {
      "cell_type": "code",
      "metadata": {
        "colab": {
          "base_uri": "https://localhost:8080/"
        },
        "id": "9FQiYQ513stg",
        "outputId": "7c113782-633b-4543-8739-9541b089ac69"
      },
      "source": [
        "#28\n",
        "for v in range (4, 8) :\n",
        " print(v)\n"
      ],
      "execution_count": 17,
      "outputs": [
        {
          "output_type": "stream",
          "name": "stdout",
          "text": [
            "4\n",
            "5\n",
            "6\n",
            "7\n"
          ]
        }
      ]
    },
    {
      "cell_type": "code",
      "metadata": {
        "colab": {
          "base_uri": "https://localhost:8080/"
        },
        "id": "dvMbwC4Z34zh",
        "outputId": "8be3766e-fac9-411b-b378-b3b4adca0ebf"
      },
      "source": [
        "#29\n",
        "for v in range (3, 9, 2) :\n",
        "  print(v)"
      ],
      "execution_count": 18,
      "outputs": [
        {
          "output_type": "stream",
          "name": "stdout",
          "text": [
            "3\n",
            "5\n",
            "7\n"
          ]
        }
      ]
    },
    {
      "cell_type": "code",
      "metadata": {
        "colab": {
          "base_uri": "https://localhost:8080/"
        },
        "id": "jdGeOWqU41dp",
        "outputId": "f3a5a4f0-b131-4c42-c420-04b46db5a8c2"
      },
      "source": [
        "#31\n",
        "for v in range (5, 1, -1 ) :\n",
        "  print(v)"
      ],
      "execution_count": 22,
      "outputs": [
        {
          "output_type": "stream",
          "name": "stdout",
          "text": [
            "5\n",
            "4\n",
            "3\n",
            "2\n"
          ]
        }
      ]
    },
    {
      "cell_type": "code",
      "metadata": {
        "colab": {
          "base_uri": "https://localhost:8080/"
        },
        "id": "zPgKdBQh4YJq",
        "outputId": "61e2f85b-3f78-4be9-cf5e-2ec86677658d"
      },
      "source": [
        "#32\n",
        "for i in range (1,5) :\n",
        "  for j in range (1,4) :\n",
        "    print(\"i=\",i,\"j=\",j)"
      ],
      "execution_count": 19,
      "outputs": [
        {
          "output_type": "stream",
          "name": "stdout",
          "text": [
            "i= 1 j= 1\n",
            "i= 1 j= 2\n",
            "i= 1 j= 3\n",
            "i= 2 j= 1\n",
            "i= 2 j= 2\n",
            "i= 2 j= 3\n",
            "i= 3 j= 1\n",
            "i= 3 j= 2\n",
            "i= 3 j= 3\n",
            "i= 4 j= 1\n",
            "i= 4 j= 2\n",
            "i= 4 j= 3\n"
          ]
        }
      ]
    },
    {
      "cell_type": "code",
      "metadata": {
        "colab": {
          "base_uri": "https://localhost:8080/"
        },
        "id": "Q2ziWUzx1HgC",
        "outputId": "65ad990e-7967-4600-dc01-86f1c0d138a8"
      },
      "source": [
        "u = input(\"username: \")\n",
        "p = input(\"passwork\")\n",
        "#check\n",
        "if u == \"peter\" and p== \"Rj@is2019\":\n",
        " print(\"Login success\")\n",
        "else:\n",
        " print(\"Login failure\")"
      ],
      "execution_count": 23,
      "outputs": [
        {
          "output_type": "stream",
          "name": "stdout",
          "text": [
            "username: ăsd\n",
            "passworkcec\n",
            "Login failure\n"
          ]
        }
      ]
    },
    {
      "cell_type": "code",
      "metadata": {
        "colab": {
          "base_uri": "https://localhost:8080/"
        },
        "id": "5pULMNsg7In9",
        "outputId": "ae22ce99-d49e-4bb8-db41-9e369dbbf644"
      },
      "source": [
        "import getpass\n",
        "#initialize\n",
        "flag = False\n",
        "#enter loop\n",
        "while not flag:\n",
        " u = input(\"Username: \")\n",
        " p = getpass.getpass(prompt=\"Password: \")\n",
        " check = flag\n",
        " if u == \"peter\" and p == \"Rj@is2019\":\n",
        "#True means that user enters right (u, p)\n",
        "  check = True\n",
        "  print(\"You logged into the system.\")\n",
        "if u == \"peter\" and p == \"Rj@is2019\":\n",
        "#True means that user enters right (u, p)\n",
        " check = True\n",
        " print(\"You logged into the system.\")\n",
        "else:\n",
        " print(\"Either username or password is wrong.\")\n",
        " ch = input(\"Do you want to continue? (y/n)\")\n",
        " if ch == \"N\" or ch == \"n\":\n",
        "  check = True\n",
        "#update loop condition\n",
        "flag = check\n",
        "#out of loop\n",
        "print(\"Finished!\")\n"
      ],
      "execution_count": null,
      "outputs": [
        {
          "name": "stdout",
          "output_type": "stream",
          "text": [
            "Username: peter\n",
            "Password: ··········\n",
            "You logged into the system.\n",
            "Username: peter\n",
            "Password: ··········\n",
            "You logged into the system.\n",
            "Username: abc\n",
            "Password: ··········\n",
            "Username: peter\n",
            "Password: ··········\n",
            "Username: pter\n",
            "Password: ··········\n",
            "Username: peter\n"
          ]
        }
      ]
    }
  ]
}