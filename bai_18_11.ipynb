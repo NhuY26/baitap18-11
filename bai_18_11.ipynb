{
  "nbformat": 4,
  "nbformat_minor": 0,
  "metadata": {
    "colab": {
      "name": "bai-18-11.ipynb",
      "provenance": [],
      "authorship_tag": "ABX9TyOTPsLhtoWkE/FrokjOGfM2",
      "include_colab_link": true
    },
    "kernelspec": {
      "name": "python3",
      "display_name": "Python 3"
    },
    "language_info": {
      "name": "python"
    }
  },
  "cells": [
    {
      "cell_type": "markdown",
      "metadata": {
        "id": "view-in-github",
        "colab_type": "text"
      },
      "source": [
        "<a href=\"https://colab.research.google.com/github/NhuY26/baitap18-11/blob/main/bai_18_11.ipynb\" target=\"_parent\"><img src=\"https://colab.research.google.com/assets/colab-badge.svg\" alt=\"Open In Colab\"/></a>"
      ]
    },
    {
      "cell_type": "code",
      "metadata": {
        "colab": {
          "base_uri": "https://localhost:8080/"
        },
        "id": "5WPmtSbpsN6M",
        "outputId": "792430ad-7727-42ef-8c1e-8e7622977510"
      },
      "source": [
        "diem = float(input('nhập điểm trung bình: '))\n",
        "if (0 <= diem) and (diem < 5):\n",
        "    print('yếu')\n",
        "elif (5 <= diem) and (diem < 7):\n",
        "    print('trung bình')\n",
        "elif (7 <= diem) and (diem < 8):\n",
        "    print('khá')\n",
        "elif (8 <= diem) and (diem < 9):\n",
        "    print ('giỏi')\n",
        "else:\n",
        "    print('xuất sắc')"
      ],
      "execution_count": null,
      "outputs": [
        {
          "output_type": "stream",
          "name": "stdout",
          "text": [
            "nhập điểm trung bình: 9\n",
            "xuất sắc\n"
          ]
        }
      ]
    }
  ]
}